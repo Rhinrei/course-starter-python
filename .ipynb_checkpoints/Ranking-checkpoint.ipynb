{
 "cells": [
  {
   "cell_type": "markdown",
   "metadata": {},
   "source": [
    "# Ranking"
   ]
  },
  {
   "cell_type": "code",
   "execution_count": 8,
   "metadata": {},
   "outputs": [],
   "source": [
    "%matplotlib inline\n",
    "from time import time\n",
    "import numpy as np\n",
    "import pandas as pd"
   ]
  },
  {
   "cell_type": "markdown",
   "metadata": {},
   "source": [
    "## Метрики"
   ]
  },
  {
   "cell_type": "code",
   "execution_count": 78,
   "metadata": {},
   "outputs": [],
   "source": [
    "def dcg(relevances, k=10):\n",
    "    #Discounted cumulative gain at k (DCG)\n",
    "    relevances = np.asarray(relevances)[:k]\n",
    "    n_relevances = len(relevances)\n",
    "    gain = 2**relevances - 1\n",
    "    # в формуле discounts + 2 т.к. нумерация начинается с 0\n",
    "    discounts = np.log2(np.arange(n_relevances) + 2)\n",
    "    return np.sum(gain / discounts)\n",
    " \n",
    " \n",
    "def ndcg(relevances, k=10):\n",
    "    #Normalized discounted cumulative gain (NDGC)\n",
    "    best_dcg = dcg(sorted(relevances, reverse=True), k)\n",
    "    if best_dcg == 0:\n",
    "        return 0.\n",
    "\n",
    "    return dcg(relevances, k) / best_dcg"
   ]
  },
  {
   "cell_type": "code",
   "execution_count": 79,
   "metadata": {},
   "outputs": [
    {
     "name": "stdout",
     "output_type": "stream",
     "text": [
      "DCG@4 12.823465818787767\n",
      "NDCG@4 0.9607618369839247\n"
     ]
    }
   ],
   "source": [
    "a = [3, 2, 3, 1]\n",
    "print(\"DCG@4\",dcg(a))\n",
    "print(\"NDCG@4\", ndcg(a))"
   ]
  },
  {
   "cell_type": "code",
   "execution_count": 80,
   "metadata": {},
   "outputs": [
    {
     "name": "stdout",
     "output_type": "stream",
     "text": [
      "DCG@4 13.347184833073596\n",
      "NDCG@4 1.0\n"
     ]
    }
   ],
   "source": [
    "best = [3,3,2,1]\n",
    "print(\"DCG@4\",dcg(best))\n",
    "print(\"NDCG@4\", ndcg(best))"
   ]
  },
  {
   "cell_type": "code",
   "execution_count": 81,
   "metadata": {},
   "outputs": [
    {
     "name": "stdout",
     "output_type": "stream",
     "text": [
      "DCG@3 8.5\n",
      "NDCG@3 0.6580725857971756\n"
     ]
    }
   ],
   "source": [
    "a = [3, 0, 2, 3, 1, 0, 0, 0, 0]\n",
    "print(\"DCG@3\",dcg(a, 3))\n",
    "print(\"NDCG@3\", ndcg(a, 3))"
   ]
  },
  {
   "cell_type": "code",
   "execution_count": 82,
   "metadata": {},
   "outputs": [
    {
     "name": "stdout",
     "output_type": "stream",
     "text": [
      "DCG@4 1.9306765580733931\n",
      "NDCG@4 0.75369761125927\n"
     ]
    }
   ],
   "source": [
    "a = [1, 0, 1, 1, 1, 0, 0, 0, 0]\n",
    "print(\"DCG@4\",dcg(a, 4))\n",
    "print(\"NDCG@4\", ndcg(a, 4))"
   ]
  },
  {
   "cell_type": "code",
   "execution_count": 83,
   "metadata": {},
   "outputs": [],
   "source": [
    "def mean_ndcg(y_true, y_pred, query_ids, k=10):\n",
    "    y_true = np.asarray(y_true)\n",
    "    y_pred = np.asarray(y_pred)\n",
    "    query_ids = np.asarray(query_ids)\n",
    "    ndcg_scores = []\n",
    "    previous_qid = query_ids[0]\n",
    "    previous_loc = 0\n",
    "    for loc, qid in enumerate(query_ids):\n",
    "        if previous_qid != qid:\n",
    "            chunk = slice(previous_loc, loc)\n",
    "            ranked_relevances = y_true[chunk][np.argsort(y_pred[chunk])[::-1]]\n",
    "            ndcg_scores.append(ndcg(ranked_relevances, k=k))\n",
    "            previous_loc = loc\n",
    "        previous_qid = qid\n",
    "\n",
    "    chunk = slice(previous_loc, loc + 1)\n",
    "    ranked_relevances = y_true[chunk][np.argsort(y_pred[chunk])[::-1]]\n",
    "    ndcg_scores.append(ndcg(ranked_relevances, k=k))\n",
    "    return np.mean(ndcg_scores)"
   ]
  },
  {
   "cell_type": "code",
   "execution_count": 84,
   "metadata": {},
   "outputs": [
    {
     "data": {
      "text/plain": [
       "0.8141164570565946"
      ]
     },
     "execution_count": 84,
     "metadata": {},
     "output_type": "execute_result"
    }
   ],
   "source": [
    "mean_ndcg(y_true = [4, 3, 1, 4, 3, 0], y_pred = [4, 0, 1, 3, 0, 4], query_ids = [0, 0, 0, 1, 1, 1], k=3)"
   ]
  },
  {
   "cell_type": "markdown",
   "metadata": {},
   "source": [
    "## Загрузка данных\n",
    "\n",
    "Используемые данные -- сильно сокращенная версия датасета MQ2008. Описание данных можно посмотреть по ссылке <https://pdfs.semanticscholar.org/3bd4/2cfb7e633320bbeec7f6d361e92abec60b07.pdf>"
   ]
  },
  {
   "cell_type": "code",
   "execution_count": 73,
   "metadata": {},
   "outputs": [
    {
     "name": "stdout",
     "output_type": "stream",
     "text": [
      "CPU times: user 15.5 ms, sys: 26.2 ms, total: 41.7 ms\n",
      "Wall time: 109 ms\n"
     ]
    }
   ],
   "source": [
    "%%time\n",
    "query = pd.read_csv(\"rankingData/QueryData.csv\")\n"
   ]
  },
  {
   "cell_type": "code",
   "execution_count": 74,
   "metadata": {},
   "outputs": [
    {
     "data": {
      "text/html": [
       "<div>\n",
       "<style scoped>\n",
       "    .dataframe tbody tr th:only-of-type {\n",
       "        vertical-align: middle;\n",
       "    }\n",
       "\n",
       "    .dataframe tbody tr th {\n",
       "        vertical-align: top;\n",
       "    }\n",
       "\n",
       "    .dataframe thead th {\n",
       "        text-align: right;\n",
       "    }\n",
       "</style>\n",
       "<table border=\"1\" class=\"dataframe\">\n",
       "  <thead>\n",
       "    <tr style=\"text-align: right;\">\n",
       "      <th></th>\n",
       "      <th>relevance</th>\n",
       "      <th>qid</th>\n",
       "      <th>tf</th>\n",
       "      <th>idf</th>\n",
       "      <th>length</th>\n",
       "      <th>bm25</th>\n",
       "      <th>pagerank</th>\n",
       "      <th>inlink</th>\n",
       "      <th>outlink</th>\n",
       "      <th>slash</th>\n",
       "      <th>urlLength</th>\n",
       "      <th>childPage</th>\n",
       "    </tr>\n",
       "  </thead>\n",
       "  <tbody>\n",
       "    <tr>\n",
       "      <th>0</th>\n",
       "      <td>0</td>\n",
       "      <td>10078</td>\n",
       "      <td>0.02500</td>\n",
       "      <td>0</td>\n",
       "      <td>0.008189</td>\n",
       "      <td>0.00000</td>\n",
       "      <td>0.000000</td>\n",
       "      <td>0.064516</td>\n",
       "      <td>0</td>\n",
       "      <td>0.000000</td>\n",
       "      <td>0.000000</td>\n",
       "      <td>1.000000</td>\n",
       "    </tr>\n",
       "    <tr>\n",
       "      <th>1</th>\n",
       "      <td>0</td>\n",
       "      <td>10078</td>\n",
       "      <td>0.03375</td>\n",
       "      <td>0</td>\n",
       "      <td>0.016228</td>\n",
       "      <td>0.00000</td>\n",
       "      <td>0.500000</td>\n",
       "      <td>0.376344</td>\n",
       "      <td>0</td>\n",
       "      <td>0.018893</td>\n",
       "      <td>0.005254</td>\n",
       "      <td>0.064103</td>\n",
       "    </tr>\n",
       "    <tr>\n",
       "      <th>2</th>\n",
       "      <td>0</td>\n",
       "      <td>10078</td>\n",
       "      <td>0.02500</td>\n",
       "      <td>0</td>\n",
       "      <td>0.011159</td>\n",
       "      <td>0.00000</td>\n",
       "      <td>0.500000</td>\n",
       "      <td>0.311828</td>\n",
       "      <td>0</td>\n",
       "      <td>0.255860</td>\n",
       "      <td>0.042032</td>\n",
       "      <td>0.025641</td>\n",
       "    </tr>\n",
       "    <tr>\n",
       "      <th>3</th>\n",
       "      <td>0</td>\n",
       "      <td>10078</td>\n",
       "      <td>0.00500</td>\n",
       "      <td>0</td>\n",
       "      <td>0.001690</td>\n",
       "      <td>0.00000</td>\n",
       "      <td>0.500000</td>\n",
       "      <td>0.591398</td>\n",
       "      <td>0</td>\n",
       "      <td>0.000656</td>\n",
       "      <td>0.003503</td>\n",
       "      <td>0.000000</td>\n",
       "    </tr>\n",
       "    <tr>\n",
       "      <th>4</th>\n",
       "      <td>0</td>\n",
       "      <td>10078</td>\n",
       "      <td>0.02250</td>\n",
       "      <td>0</td>\n",
       "      <td>0.007297</td>\n",
       "      <td>0.47964</td>\n",
       "      <td>0.333333</td>\n",
       "      <td>0.322581</td>\n",
       "      <td>0</td>\n",
       "      <td>0.012455</td>\n",
       "      <td>0.008757</td>\n",
       "      <td>0.269231</td>\n",
       "    </tr>\n",
       "  </tbody>\n",
       "</table>\n",
       "</div>"
      ],
      "text/plain": [
       "   relevance    qid       tf  idf    length     bm25  pagerank    inlink  \\\n",
       "0          0  10078  0.02500    0  0.008189  0.00000  0.000000  0.064516   \n",
       "1          0  10078  0.03375    0  0.016228  0.00000  0.500000  0.376344   \n",
       "2          0  10078  0.02500    0  0.011159  0.00000  0.500000  0.311828   \n",
       "3          0  10078  0.00500    0  0.001690  0.00000  0.500000  0.591398   \n",
       "4          0  10078  0.02250    0  0.007297  0.47964  0.333333  0.322581   \n",
       "\n",
       "   outlink     slash  urlLength  childPage  \n",
       "0        0  0.000000   0.000000   1.000000  \n",
       "1        0  0.018893   0.005254   0.064103  \n",
       "2        0  0.255860   0.042032   0.025641  \n",
       "3        0  0.000656   0.003503   0.000000  \n",
       "4        0  0.012455   0.008757   0.269231  "
      ]
     },
     "execution_count": 74,
     "metadata": {},
     "output_type": "execute_result"
    }
   ],
   "source": [
    "query.head()"
   ]
  },
  {
   "cell_type": "code",
   "execution_count": 75,
   "metadata": {},
   "outputs": [
    {
     "data": {
      "text/plain": [
       "array([10078, 10078, 10078, ..., 15917, 15917, 15917])"
      ]
     },
     "execution_count": 75,
     "metadata": {},
     "output_type": "execute_result"
    }
   ],
   "source": [
    "X_train = query.iloc[:, 2:]\n",
    "y_train = query.loc[:,\"relevance\"].values\n",
    "qid_train = query.loc[:,\"qid\"].values\n",
    "qid_train"
   ]
  },
  {
   "cell_type": "code",
   "execution_count": 86,
   "metadata": {},
   "outputs": [
    {
     "data": {
      "text/html": [
       "<div>\n",
       "<style scoped>\n",
       "    .dataframe tbody tr th:only-of-type {\n",
       "        vertical-align: middle;\n",
       "    }\n",
       "\n",
       "    .dataframe tbody tr th {\n",
       "        vertical-align: top;\n",
       "    }\n",
       "\n",
       "    .dataframe thead th {\n",
       "        text-align: right;\n",
       "    }\n",
       "</style>\n",
       "<table border=\"1\" class=\"dataframe\">\n",
       "  <thead>\n",
       "    <tr style=\"text-align: right;\">\n",
       "      <th></th>\n",
       "      <th>relevance</th>\n",
       "      <th>qid</th>\n",
       "      <th>tf</th>\n",
       "      <th>idf</th>\n",
       "      <th>length</th>\n",
       "      <th>bm25</th>\n",
       "      <th>pagerank</th>\n",
       "      <th>inlink</th>\n",
       "      <th>outlink</th>\n",
       "      <th>slash</th>\n",
       "      <th>urlLength</th>\n",
       "      <th>childPage</th>\n",
       "    </tr>\n",
       "  </thead>\n",
       "  <tbody>\n",
       "    <tr>\n",
       "      <th>2501</th>\n",
       "      <td>0</td>\n",
       "      <td>15917</td>\n",
       "      <td>0.174455</td>\n",
       "      <td>0</td>\n",
       "      <td>0.123170</td>\n",
       "      <td>0.000000</td>\n",
       "      <td>0.0</td>\n",
       "      <td>0.000000</td>\n",
       "      <td>0</td>\n",
       "      <td>0.218190</td>\n",
       "      <td>0.36</td>\n",
       "      <td>0.161290</td>\n",
       "    </tr>\n",
       "    <tr>\n",
       "      <th>2502</th>\n",
       "      <td>0</td>\n",
       "      <td>15917</td>\n",
       "      <td>0.034268</td>\n",
       "      <td>0</td>\n",
       "      <td>0.019302</td>\n",
       "      <td>0.000000</td>\n",
       "      <td>0.4</td>\n",
       "      <td>0.169643</td>\n",
       "      <td>0</td>\n",
       "      <td>1.000000</td>\n",
       "      <td>1.00</td>\n",
       "      <td>0.612903</td>\n",
       "    </tr>\n",
       "    <tr>\n",
       "      <th>2503</th>\n",
       "      <td>0</td>\n",
       "      <td>15917</td>\n",
       "      <td>0.009346</td>\n",
       "      <td>0</td>\n",
       "      <td>0.007479</td>\n",
       "      <td>0.000000</td>\n",
       "      <td>0.4</td>\n",
       "      <td>0.133929</td>\n",
       "      <td>0</td>\n",
       "      <td>0.001441</td>\n",
       "      <td>0.04</td>\n",
       "      <td>0.000000</td>\n",
       "    </tr>\n",
       "    <tr>\n",
       "      <th>2504</th>\n",
       "      <td>0</td>\n",
       "      <td>15917</td>\n",
       "      <td>0.034268</td>\n",
       "      <td>0</td>\n",
       "      <td>0.004369</td>\n",
       "      <td>0.592237</td>\n",
       "      <td>1.0</td>\n",
       "      <td>0.339286</td>\n",
       "      <td>0</td>\n",
       "      <td>0.528897</td>\n",
       "      <td>0.32</td>\n",
       "      <td>0.774194</td>\n",
       "    </tr>\n",
       "    <tr>\n",
       "      <th>2505</th>\n",
       "      <td>2</td>\n",
       "      <td>15917</td>\n",
       "      <td>0.161994</td>\n",
       "      <td>0</td>\n",
       "      <td>0.017130</td>\n",
       "      <td>1.000000</td>\n",
       "      <td>0.8</td>\n",
       "      <td>0.241071</td>\n",
       "      <td>0</td>\n",
       "      <td>0.142377</td>\n",
       "      <td>0.76</td>\n",
       "      <td>0.935484</td>\n",
       "    </tr>\n",
       "    <tr>\n",
       "      <th>2506</th>\n",
       "      <td>0</td>\n",
       "      <td>15917</td>\n",
       "      <td>0.084112</td>\n",
       "      <td>0</td>\n",
       "      <td>0.019327</td>\n",
       "      <td>0.132221</td>\n",
       "      <td>1.0</td>\n",
       "      <td>0.321429</td>\n",
       "      <td>0</td>\n",
       "      <td>0.162703</td>\n",
       "      <td>0.72</td>\n",
       "      <td>1.000000</td>\n",
       "    </tr>\n",
       "    <tr>\n",
       "      <th>2507</th>\n",
       "      <td>2</td>\n",
       "      <td>15917</td>\n",
       "      <td>0.077882</td>\n",
       "      <td>0</td>\n",
       "      <td>0.014366</td>\n",
       "      <td>0.311612</td>\n",
       "      <td>0.4</td>\n",
       "      <td>0.187500</td>\n",
       "      <td>0</td>\n",
       "      <td>0.739612</td>\n",
       "      <td>0.16</td>\n",
       "      <td>0.580645</td>\n",
       "    </tr>\n",
       "    <tr>\n",
       "      <th>2508</th>\n",
       "      <td>0</td>\n",
       "      <td>15917</td>\n",
       "      <td>0.133956</td>\n",
       "      <td>0</td>\n",
       "      <td>0.087922</td>\n",
       "      <td>0.000000</td>\n",
       "      <td>0.8</td>\n",
       "      <td>0.276786</td>\n",
       "      <td>0</td>\n",
       "      <td>0.043589</td>\n",
       "      <td>0.04</td>\n",
       "      <td>0.096774</td>\n",
       "    </tr>\n",
       "    <tr>\n",
       "      <th>2509</th>\n",
       "      <td>2</td>\n",
       "      <td>15917</td>\n",
       "      <td>0.012461</td>\n",
       "      <td>0</td>\n",
       "      <td>0.001530</td>\n",
       "      <td>0.000000</td>\n",
       "      <td>0.4</td>\n",
       "      <td>0.098214</td>\n",
       "      <td>0</td>\n",
       "      <td>0.145353</td>\n",
       "      <td>0.20</td>\n",
       "      <td>0.193548</td>\n",
       "    </tr>\n",
       "    <tr>\n",
       "      <th>2510</th>\n",
       "      <td>0</td>\n",
       "      <td>15917</td>\n",
       "      <td>0.012461</td>\n",
       "      <td>0</td>\n",
       "      <td>0.003085</td>\n",
       "      <td>0.000000</td>\n",
       "      <td>0.8</td>\n",
       "      <td>0.419643</td>\n",
       "      <td>0</td>\n",
       "      <td>0.000000</td>\n",
       "      <td>0.00</td>\n",
       "      <td>0.290323</td>\n",
       "    </tr>\n",
       "    <tr>\n",
       "      <th>2511</th>\n",
       "      <td>0</td>\n",
       "      <td>15917</td>\n",
       "      <td>0.000000</td>\n",
       "      <td>0</td>\n",
       "      <td>0.000000</td>\n",
       "      <td>0.000000</td>\n",
       "      <td>0.8</td>\n",
       "      <td>0.285714</td>\n",
       "      <td>0</td>\n",
       "      <td>0.000000</td>\n",
       "      <td>0.00</td>\n",
       "      <td>0.000000</td>\n",
       "    </tr>\n",
       "    <tr>\n",
       "      <th>2512</th>\n",
       "      <td>0</td>\n",
       "      <td>15917</td>\n",
       "      <td>0.012461</td>\n",
       "      <td>0</td>\n",
       "      <td>0.001604</td>\n",
       "      <td>0.000000</td>\n",
       "      <td>0.8</td>\n",
       "      <td>1.000000</td>\n",
       "      <td>0</td>\n",
       "      <td>0.000000</td>\n",
       "      <td>0.00</td>\n",
       "      <td>0.000000</td>\n",
       "    </tr>\n",
       "    <tr>\n",
       "      <th>2513</th>\n",
       "      <td>0</td>\n",
       "      <td>15917</td>\n",
       "      <td>0.049844</td>\n",
       "      <td>0</td>\n",
       "      <td>0.003777</td>\n",
       "      <td>0.000000</td>\n",
       "      <td>0.8</td>\n",
       "      <td>0.598214</td>\n",
       "      <td>0</td>\n",
       "      <td>0.000000</td>\n",
       "      <td>0.00</td>\n",
       "      <td>0.000000</td>\n",
       "    </tr>\n",
       "    <tr>\n",
       "      <th>2514</th>\n",
       "      <td>2</td>\n",
       "      <td>15917</td>\n",
       "      <td>0.143302</td>\n",
       "      <td>0</td>\n",
       "      <td>0.014267</td>\n",
       "      <td>0.797738</td>\n",
       "      <td>0.4</td>\n",
       "      <td>0.214286</td>\n",
       "      <td>0</td>\n",
       "      <td>0.749857</td>\n",
       "      <td>0.40</td>\n",
       "      <td>0.032258</td>\n",
       "    </tr>\n",
       "    <tr>\n",
       "      <th>2515</th>\n",
       "      <td>0</td>\n",
       "      <td>15917</td>\n",
       "      <td>1.000000</td>\n",
       "      <td>0</td>\n",
       "      <td>1.000000</td>\n",
       "      <td>0.000000</td>\n",
       "      <td>0.6</td>\n",
       "      <td>0.116071</td>\n",
       "      <td>0</td>\n",
       "      <td>0.001900</td>\n",
       "      <td>0.04</td>\n",
       "      <td>0.000000</td>\n",
       "    </tr>\n",
       "  </tbody>\n",
       "</table>\n",
       "</div>"
      ],
      "text/plain": [
       "      relevance    qid        tf  idf    length      bm25  pagerank    inlink  \\\n",
       "2501          0  15917  0.174455    0  0.123170  0.000000       0.0  0.000000   \n",
       "2502          0  15917  0.034268    0  0.019302  0.000000       0.4  0.169643   \n",
       "2503          0  15917  0.009346    0  0.007479  0.000000       0.4  0.133929   \n",
       "2504          0  15917  0.034268    0  0.004369  0.592237       1.0  0.339286   \n",
       "2505          2  15917  0.161994    0  0.017130  1.000000       0.8  0.241071   \n",
       "2506          0  15917  0.084112    0  0.019327  0.132221       1.0  0.321429   \n",
       "2507          2  15917  0.077882    0  0.014366  0.311612       0.4  0.187500   \n",
       "2508          0  15917  0.133956    0  0.087922  0.000000       0.8  0.276786   \n",
       "2509          2  15917  0.012461    0  0.001530  0.000000       0.4  0.098214   \n",
       "2510          0  15917  0.012461    0  0.003085  0.000000       0.8  0.419643   \n",
       "2511          0  15917  0.000000    0  0.000000  0.000000       0.8  0.285714   \n",
       "2512          0  15917  0.012461    0  0.001604  0.000000       0.8  1.000000   \n",
       "2513          0  15917  0.049844    0  0.003777  0.000000       0.8  0.598214   \n",
       "2514          2  15917  0.143302    0  0.014267  0.797738       0.4  0.214286   \n",
       "2515          0  15917  1.000000    0  1.000000  0.000000       0.6  0.116071   \n",
       "\n",
       "      outlink     slash  urlLength  childPage  \n",
       "2501        0  0.218190       0.36   0.161290  \n",
       "2502        0  1.000000       1.00   0.612903  \n",
       "2503        0  0.001441       0.04   0.000000  \n",
       "2504        0  0.528897       0.32   0.774194  \n",
       "2505        0  0.142377       0.76   0.935484  \n",
       "2506        0  0.162703       0.72   1.000000  \n",
       "2507        0  0.739612       0.16   0.580645  \n",
       "2508        0  0.043589       0.04   0.096774  \n",
       "2509        0  0.145353       0.20   0.193548  \n",
       "2510        0  0.000000       0.00   0.290323  \n",
       "2511        0  0.000000       0.00   0.000000  \n",
       "2512        0  0.000000       0.00   0.000000  \n",
       "2513        0  0.000000       0.00   0.000000  \n",
       "2514        0  0.749857       0.40   0.032258  \n",
       "2515        0  0.001900       0.04   0.000000  "
      ]
     },
     "execution_count": 86,
     "metadata": {},
     "output_type": "execute_result"
    }
   ],
   "source": [
    "query.loc[query.qid == 15917,]"
   ]
  },
  {
   "cell_type": "markdown",
   "metadata": {},
   "source": [
    "Перейдем к предсказаниям. Сначала -- обычное предсказание pointwise"
   ]
  },
  {
   "cell_type": "code",
   "execution_count": 87,
   "metadata": {},
   "outputs": [
    {
     "name": "stdout",
     "output_type": "stream",
     "text": [
      "      Iter       Train Loss   Remaining Time \n",
      "         1           0.3498           10.50s\n",
      "         2           0.3430            5.84s\n",
      "         3           0.3375            4.25s\n",
      "         4           0.3328            3.36s\n",
      "         5           0.3288            2.84s\n",
      "         6           0.3236            2.48s\n",
      "         7           0.3207            2.21s\n",
      "         8           0.3163            2.02s\n",
      "         9           0.3141            1.86s\n",
      "        10           0.3107            1.74s\n",
      "        20           0.2879            1.45s\n",
      "        30           0.2752            1.21s\n",
      "        40           0.2642            1.06s\n",
      "        50           0.2558            0.91s\n",
      "        60           0.2483            0.81s\n",
      "        70           0.2407            0.75s\n",
      "        80           0.2322            0.70s\n",
      "        90           0.2260            0.65s\n",
      "       100           0.2190            0.62s\n",
      "       200           0.1711            0.26s\n",
      "       300           0.1376            0.00s\n"
     ]
    }
   ],
   "source": [
    "from sklearn.ensemble import GradientBoostingRegressor\n",
    "\n",
    "gbr = GradientBoostingRegressor(n_estimators=300, max_depth=3,\n",
    "                                 learning_rate=0.1, loss='ls',\n",
    "                                 random_state=1, verbose=1)\n",
    "gbmodel = gbr.fit(X_train, y_train)"
   ]
  },
  {
   "cell_type": "code",
   "execution_count": 122,
   "metadata": {},
   "outputs": [
    {
     "data": {
      "text/plain": [
       "2516"
      ]
     },
     "execution_count": 122,
     "metadata": {},
     "output_type": "execute_result"
    }
   ],
   "source": [
    "y_pred = gbmodel.predict(X_train)\n",
    "len(y_pred)"
   ]
  },
  {
   "cell_type": "markdown",
   "metadata": {},
   "source": [
    "Оцениваем качество. Важно (!): нам нужен только порядок, сами предсказания не особо важны"
   ]
  },
  {
   "cell_type": "code",
   "execution_count": 91,
   "metadata": {},
   "outputs": [
    {
     "data": {
      "text/plain": [
       "0.8887622753431376"
      ]
     },
     "execution_count": 91,
     "metadata": {},
     "output_type": "execute_result"
    }
   ],
   "source": [
    "mean_ndcg(y_true = y_train, y_pred = y_pred, query_ids = qid_train, k=5)"
   ]
  },
  {
   "cell_type": "markdown",
   "metadata": {},
   "source": [
    "Посмотрим на предсказание для того же запроса, что смотрели при загрузке данных"
   ]
  },
  {
   "cell_type": "code",
   "execution_count": 92,
   "metadata": {},
   "outputs": [
    {
     "data": {
      "text/plain": [
       "array([0.32761146, 0.03813293, 0.30198987, 0.00776475, 1.03408113,\n",
       "       0.22268366, 1.21732813, 0.19471396, 0.67989388, 0.12797141,\n",
       "       0.04494589, 0.11158189, 0.23849748, 1.36053563, 0.15532618])"
      ]
     },
     "execution_count": 92,
     "metadata": {},
     "output_type": "execute_result"
    }
   ],
   "source": [
    "y_pred[qid_train == 15917]"
   ]
  },
  {
   "cell_type": "code",
   "execution_count": 93,
   "metadata": {},
   "outputs": [
    {
     "data": {
      "text/plain": [
       "array([0, 0, 0, 0, 2, 0, 2, 0, 2, 0, 0, 0, 0, 2, 0])"
      ]
     },
     "execution_count": 93,
     "metadata": {},
     "output_type": "execute_result"
    }
   ],
   "source": [
    "y_train[qid_train == 15917]"
   ]
  },
  {
   "cell_type": "markdown",
   "metadata": {},
   "source": [
    "Как бы вы упорядочили документы?"
   ]
  },
  {
   "cell_type": "code",
   "execution_count": 96,
   "metadata": {},
   "outputs": [
    {
     "data": {
      "text/plain": [
       "array([13,  6,  4,  8,  0,  2, 12,  5,  7, 14,  9, 11, 10,  1,  3])"
      ]
     },
     "execution_count": 96,
     "metadata": {},
     "output_type": "execute_result"
    }
   ],
   "source": [
    "np.argsort(y_pred[qid_train == 15917])[::-1]"
   ]
  },
  {
   "cell_type": "code",
   "execution_count": 97,
   "metadata": {},
   "outputs": [
    {
     "data": {
      "text/plain": [
       "array([ 3,  1, 10, 11,  9, 14,  7,  5, 12,  2,  0,  8,  4,  6, 13])"
      ]
     },
     "execution_count": 97,
     "metadata": {},
     "output_type": "execute_result"
    }
   ],
   "source": [
    "np.argsort(y_pred[qid_train == 15917])"
   ]
  },
  {
   "cell_type": "markdown",
   "metadata": {},
   "source": [
    " Многие более сложные алгоритмы можно найти в разных библиотеках. Например, библиотека pyltr (PYthon Learning To Rank) (pip install pyltr)"
   ]
  },
  {
   "cell_type": "code",
   "execution_count": 116,
   "metadata": {},
   "outputs": [],
   "source": [
    "import pyltr"
   ]
  },
  {
   "cell_type": "markdown",
   "metadata": {},
   "source": [
    "LambdaMART - pairwise метод, поэтому для него нужно обязательно указывать qid -- попарные сравнения производятся только внутри одного запроса (пользователя)"
   ]
  },
  {
   "cell_type": "code",
   "execution_count": 117,
   "metadata": {},
   "outputs": [
    {
     "name": "stdout",
     "output_type": "stream",
     "text": [
      " Iter  Train score  OOB Improve    Remaining                           Monitor Output \n",
      "    1       0.5309       0.2728        4.39m                                         \n",
      "    2       0.6202       0.0239        3.50m                                         \n",
      "    3       0.5910       0.0523        3.34m                                         \n",
      "    4       0.6040       0.0248        3.34m                                         \n",
      "    5       0.6629      -0.0304        3.16m                                         \n",
      "    6       0.6240       0.0015        3.10m                                         \n",
      "    7       0.6280       0.0014        2.93m                                         \n",
      "    8       0.6050      -0.0074        2.92m                                         \n",
      "    9       0.6511      -0.0076        2.87m                                         \n",
      "   10       0.6419      -0.0080        2.84m                                         \n",
      "   15       0.5428      -0.0072        2.82m                                         \n",
      "   20       0.6377       0.0039        2.88m                                         \n",
      "   25       0.6493      -0.0002        3.02m                                         \n",
      "   30       0.6711       0.0056        2.97m                                         \n",
      "   35       0.6052      -0.0025        3.09m                                         \n",
      "   40       0.6345      -0.0026        3.21m                                         \n",
      "   45       0.6623       0.0000        3.16m                                         \n",
      "   50       0.6540      -0.0014        3.11m                                         \n",
      "   60       0.6823      -0.0001        2.99m                                         \n",
      "   70       0.6965       0.0003        2.89m                                         \n",
      "   80       0.6976       0.0064        2.78m                                         \n",
      "   90       0.6758      -0.0099        2.70m                                         \n",
      "  100       0.6508      -0.0033        2.63m                                         \n",
      "  120       0.6752      -0.0009        2.51m                                         \n",
      "  140       0.7094      -0.0008        2.42m                                         \n",
      "  160       0.6550      -0.0006        2.38m                                         \n",
      "  180       0.6940       0.0011        2.31m                                         \n",
      "  200       0.7029      -0.0023        2.25m                                         \n",
      "  220       0.7003       0.0028        2.22m                                         \n",
      "  240       0.7157       0.0003        2.16m                                         \n",
      "  260       0.6934       0.0001        2.10m                                         \n",
      "  280       0.7479      -0.0012        2.04m                                         \n",
      "  300       0.7253      -0.0004        1.98m                                         \n",
      "  320       0.7650      -0.0006        1.92m                                         \n",
      "  340       0.7522      -0.0010        1.88m                                         \n",
      "  360       0.7795       0.0001        1.83m                                         \n",
      "  380       0.7880       0.0005        1.76m                                         \n",
      "  400       0.7811       0.0009        1.70m                                         \n",
      "  420       0.7858      -0.0001        1.64m                                         \n",
      "  440       0.7868      -0.0001        1.58m                                         \n",
      "  460       0.8115      -0.0034        1.52m                                         \n",
      "  480       0.8131      -0.0014        1.45m                                         \n",
      "  500       0.8104       0.0016        1.42m                                         \n",
      "  550       0.8199      -0.0100        1.28m                                         \n",
      "  600       0.8105       0.0013        1.15m                                         \n",
      "  650       0.8534      -0.0024       59.70s                                         \n",
      "  700       0.8254       0.0006       50.91s                                         \n",
      "  750       0.8413      -0.0002       42.65s                                         \n",
      "  800       0.8487      -0.0009       34.07s                                         \n",
      "  850       0.8581       0.0002       25.68s                                         \n",
      "  900       0.8674       0.0009       17.16s                                         \n",
      "  950       0.8746       0.0000        8.67s                                         \n",
      " 1000       0.8983       0.0002        0.00s                                         \n"
     ]
    },
    {
     "data": {
      "text/plain": [
       "<pyltr.models.lambdamart.LambdaMART at 0x1a1fe1c780>"
      ]
     },
     "execution_count": 117,
     "metadata": {},
     "output_type": "execute_result"
    }
   ],
   "source": [
    "metric = pyltr.metrics.NDCG(k=10)\n",
    "model = pyltr.models.LambdaMART(\n",
    "    metric=metric,\n",
    "    n_estimators=1000,\n",
    "    learning_rate=0.02,\n",
    "    max_features=0.5,\n",
    "    query_subsample=0.5,\n",
    "    max_leaf_nodes=10,\n",
    "    min_samples_leaf=64,\n",
    "    verbose=1,\n",
    ")\n",
    "\n",
    "model.fit(X_train, y_train, qid_train)"
   ]
  },
  {
   "cell_type": "code",
   "execution_count": 125,
   "metadata": {},
   "outputs": [
    {
     "data": {
      "text/plain": [
       "0.8887622753431376"
      ]
     },
     "execution_count": 125,
     "metadata": {},
     "output_type": "execute_result"
    }
   ],
   "source": [
    "y_pred2 = model.predict(X_train)\n",
    "y_pred2\n",
    "mean_ndcg(y_true = y_train, y_pred = y_pred, query_ids = qid_train, k=5)"
   ]
  },
  {
   "cell_type": "markdown",
   "metadata": {},
   "source": [
    "## Задание\n",
    "\n",
    "Используйте датасет с click-data (релевантность оценивается только 0-1). \n",
    "1. Повторите процесс построения ранжирования с новыми данными и теми же моделями\n",
    "2. Замените модели регрессии на модели классификации\n",
    "3. Реализуйте подсчет метрики MAP (mean average precision)\n",
    "4. Постройте агрегированное ранжирование (методом Борда)\n",
    "5. *Найдите лучший документ согласно UCB (см. многоруких бандитов)\n"
   ]
  },
  {
   "cell_type": "code",
   "execution_count": 101,
   "metadata": {},
   "outputs": [],
   "source": [
    "clicks = pd.read_csv(\"rankingData/ClickData.csv\")"
   ]
  },
  {
   "cell_type": "markdown",
   "metadata": {},
   "source": [
    "5. Найдите лучший документ согласно UCB (см. многоруких бандитов)\n",
    "Уже трансформированный датасет для поиска оптимального выбора."
   ]
  },
  {
   "cell_type": "code",
   "execution_count": 109,
   "metadata": {},
   "outputs": [],
   "source": [
    "dataset = pd.read_csv(\"rankingData/transformedClickData.csv\")\n",
    "import math\n",
    "N = 285\n",
    "d = 7\n",
    "ads_selected = []\n",
    "numbers_of_selections = [0] * d\n",
    "sums_of_reward = [0] * d\n",
    "total_reward = 0\n",
    "\n",
    "for n in range(0, N):\n",
    "    ad = 0\n",
    "    max_upper_bound = 0\n",
    "    for i in range(0, d):\n",
    "        if (numbers_of_selections[i] > 0):\n",
    "            average_reward = sums_of_reward[i] / numbers_of_selections[i]\n",
    "            delta_i = math.sqrt(2 * math.log(n+1) / numbers_of_selections[i])\n",
    "            upper_bound = average_reward + delta_i\n",
    "        else:\n",
    "            upper_bound = 1e400\n",
    "        if upper_bound > max_upper_bound:\n",
    "            max_upper_bound = upper_bound\n",
    "            ad = i\n",
    "    ads_selected.append(ad)\n",
    "    numbers_of_selections[ad] += 1\n",
    "    reward = dataset.values[n, ad]\n",
    "    sums_of_reward[ad] += reward\n",
    "    total_reward += reward"
   ]
  },
  {
   "cell_type": "code",
   "execution_count": 112,
   "metadata": {},
   "outputs": [
    {
     "data": {
      "text/plain": [
       "1    0.232143\n",
       "6    0.150000\n",
       "4    0.142857\n",
       "3    0.139286\n",
       "2    0.132143\n",
       "0    0.117857\n",
       "5    0.085714\n",
       "dtype: float64"
      ]
     },
     "execution_count": 112,
     "metadata": {},
     "output_type": "execute_result"
    }
   ],
   "source": [
    "res = pd.Series(ads_selected).head(280).value_counts(normalize = True)\n",
    "res"
   ]
  }
 ],
 "metadata": {
  "kernelspec": {
   "display_name": "Python 3",
   "language": "python",
   "name": "python3"
  },
  "language_info": {
   "codemirror_mode": {
    "name": "ipython",
    "version": 3
   },
   "file_extension": ".py",
   "mimetype": "text/x-python",
   "name": "python",
   "nbconvert_exporter": "python",
   "pygments_lexer": "ipython3",
   "version": "3.7.0"
  }
 },
 "nbformat": 4,
 "nbformat_minor": 2
}
