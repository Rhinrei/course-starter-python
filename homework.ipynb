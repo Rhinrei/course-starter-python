{
 "cells": [
  {
   "cell_type": "markdown",
   "metadata": {},
   "source": [
    "# Ranking"
   ]
  },
  {
   "cell_type": "code",
   "execution_count": 2,
   "metadata": {},
   "outputs": [],
   "source": [
    "%matplotlib inline\n",
    "from time import time\n",
    "import numpy as np\n",
    "import pandas as pd"
   ]
  },
  {
   "cell_type": "markdown",
   "metadata": {},
   "source": [
    "## Метрики"
   ]
  },
  {
   "cell_type": "code",
   "execution_count": 78,
   "metadata": {},
   "outputs": [],
   "source": [
    "def dcg(relevances, k=10):\n",
    "    #Discounted cumulative gain at k (DCG)\n",
    "    relevances = np.asarray(relevances)[:k]\n",
    "    n_relevances = len(relevances)\n",
    "    gain = 2**relevances - 1\n",
    "    # в формуле discounts + 2 т.к. нумерация начинается с 0\n",
    "    discounts = np.log2(np.arange(n_relevances) + 2)\n",
    "    return np.sum(gain / discounts)\n",
    " \n",
    " \n",
    "def ndcg(relevances, k=10):\n",
    "    #Normalized discounted cumulative gain (NDGC)\n",
    "    best_dcg = dcg(sorted(relevances, reverse=True), k)\n",
    "    if best_dcg == 0:\n",
    "        return 0.\n",
    "\n",
    "    return dcg(relevances, k) / best_dcg"
   ]
  },
  {
   "cell_type": "code",
   "execution_count": 83,
   "metadata": {},
   "outputs": [],
   "source": [
    "def mean_ndcg(y_true, y_pred, query_ids, k=10):\n",
    "    y_true = np.asarray(y_true)\n",
    "    y_pred = np.asarray(y_pred)\n",
    "    query_ids = np.asarray(query_ids)\n",
    "    ndcg_scores = []\n",
    "    previous_qid = query_ids[0]\n",
    "    previous_loc = 0\n",
    "    for loc, qid in enumerate(query_ids):\n",
    "        if previous_qid != qid:\n",
    "            chunk = slice(previous_loc, loc)\n",
    "            ranked_relevances = y_true[chunk][np.argsort(y_pred[chunk])[::-1]]\n",
    "            ndcg_scores.append(ndcg(ranked_relevances, k=k))\n",
    "            previous_loc = loc\n",
    "        previous_qid = qid\n",
    "\n",
    "    chunk = slice(previous_loc, loc + 1)\n",
    "    ranked_relevances = y_true[chunk][np.argsort(y_pred[chunk])[::-1]]\n",
    "    ndcg_scores.append(ndcg(ranked_relevances, k=k))\n",
    "    return np.mean(ndcg_scores)"
   ]
  },
  {
   "cell_type": "markdown",
   "metadata": {},
   "source": [
    "## Загрузка данных\n",
    "\n",
    "Используемые бинарные данные"
   ]
  },
  {
   "cell_type": "code",
   "execution_count": 47,
   "metadata": {
    "scrolled": true
   },
   "outputs": [],
   "source": [
    "query = pd.read_csv(\"D:/Downloads/Ranking/data/trainDataBinary.csv\")"
   ]
  },
  {
   "cell_type": "code",
   "execution_count": 48,
   "metadata": {},
   "outputs": [
    {
     "data": {
      "text/html": [
       "<div>\n",
       "<style scoped>\n",
       "    .dataframe tbody tr th:only-of-type {\n",
       "        vertical-align: middle;\n",
       "    }\n",
       "\n",
       "    .dataframe tbody tr th {\n",
       "        vertical-align: top;\n",
       "    }\n",
       "\n",
       "    .dataframe thead th {\n",
       "        text-align: right;\n",
       "    }\n",
       "</style>\n",
       "<table border=\"1\" class=\"dataframe\">\n",
       "  <thead>\n",
       "    <tr style=\"text-align: right;\">\n",
       "      <th></th>\n",
       "      <th>relevance</th>\n",
       "      <th>qid</th>\n",
       "      <th>tf</th>\n",
       "      <th>idf</th>\n",
       "      <th>length</th>\n",
       "      <th>bm25</th>\n",
       "      <th>pagerank</th>\n",
       "      <th>inlink</th>\n",
       "      <th>outlink</th>\n",
       "      <th>slash</th>\n",
       "      <th>urlLength</th>\n",
       "      <th>childPage</th>\n",
       "    </tr>\n",
       "  </thead>\n",
       "  <tbody>\n",
       "    <tr>\n",
       "      <th>0</th>\n",
       "      <td>0</td>\n",
       "      <td>11909</td>\n",
       "      <td>0.048537</td>\n",
       "      <td>0</td>\n",
       "      <td>0.054362</td>\n",
       "      <td>0.000000</td>\n",
       "      <td>0.000000</td>\n",
       "      <td>0.000000</td>\n",
       "      <td>0</td>\n",
       "      <td>0.208262</td>\n",
       "      <td>0.089286</td>\n",
       "      <td>1.000000</td>\n",
       "    </tr>\n",
       "    <tr>\n",
       "      <th>1</th>\n",
       "      <td>0</td>\n",
       "      <td>11909</td>\n",
       "      <td>0.000000</td>\n",
       "      <td>0</td>\n",
       "      <td>0.000000</td>\n",
       "      <td>0.000000</td>\n",
       "      <td>0.000000</td>\n",
       "      <td>0.080000</td>\n",
       "      <td>0</td>\n",
       "      <td>0.000000</td>\n",
       "      <td>0.000000</td>\n",
       "      <td>0.000000</td>\n",
       "    </tr>\n",
       "    <tr>\n",
       "      <th>2</th>\n",
       "      <td>0</td>\n",
       "      <td>11909</td>\n",
       "      <td>0.014989</td>\n",
       "      <td>0</td>\n",
       "      <td>0.005346</td>\n",
       "      <td>1.000000</td>\n",
       "      <td>1.000000</td>\n",
       "      <td>1.000000</td>\n",
       "      <td>0</td>\n",
       "      <td>1.000000</td>\n",
       "      <td>1.000000</td>\n",
       "      <td>0.166667</td>\n",
       "    </tr>\n",
       "    <tr>\n",
       "      <th>3</th>\n",
       "      <td>1</td>\n",
       "      <td>11909</td>\n",
       "      <td>0.048180</td>\n",
       "      <td>0</td>\n",
       "      <td>0.016753</td>\n",
       "      <td>0.000000</td>\n",
       "      <td>1.000000</td>\n",
       "      <td>0.253333</td>\n",
       "      <td>0</td>\n",
       "      <td>0.040667</td>\n",
       "      <td>0.017857</td>\n",
       "      <td>0.000000</td>\n",
       "    </tr>\n",
       "    <tr>\n",
       "      <th>4</th>\n",
       "      <td>1</td>\n",
       "      <td>11909</td>\n",
       "      <td>0.254818</td>\n",
       "      <td>0</td>\n",
       "      <td>0.135242</td>\n",
       "      <td>0.615723</td>\n",
       "      <td>0.333333</td>\n",
       "      <td>0.253333</td>\n",
       "      <td>0</td>\n",
       "      <td>0.004727</td>\n",
       "      <td>0.017857</td>\n",
       "      <td>0.527778</td>\n",
       "    </tr>\n",
       "  </tbody>\n",
       "</table>\n",
       "</div>"
      ],
      "text/plain": [
       "   relevance    qid        tf  idf    length      bm25  pagerank    inlink  \\\n",
       "0          0  11909  0.048537    0  0.054362  0.000000  0.000000  0.000000   \n",
       "1          0  11909  0.000000    0  0.000000  0.000000  0.000000  0.080000   \n",
       "2          0  11909  0.014989    0  0.005346  1.000000  1.000000  1.000000   \n",
       "3          1  11909  0.048180    0  0.016753  0.000000  1.000000  0.253333   \n",
       "4          1  11909  0.254818    0  0.135242  0.615723  0.333333  0.253333   \n",
       "\n",
       "   outlink     slash  urlLength  childPage  \n",
       "0        0  0.208262   0.089286   1.000000  \n",
       "1        0  0.000000   0.000000   0.000000  \n",
       "2        0  1.000000   1.000000   0.166667  \n",
       "3        0  0.040667   0.017857   0.000000  \n",
       "4        0  0.004727   0.017857   0.527778  "
      ]
     },
     "execution_count": 48,
     "metadata": {},
     "output_type": "execute_result"
    }
   ],
   "source": [
    "query.head()"
   ]
  },
  {
   "cell_type": "code",
   "execution_count": 49,
   "metadata": {},
   "outputs": [
    {
     "data": {
      "text/plain": [
       "array([11909, 11909, 11909, ..., 18218, 18218, 18218], dtype=int64)"
      ]
     },
     "execution_count": 49,
     "metadata": {},
     "output_type": "execute_result"
    }
   ],
   "source": [
    "X_train = query.iloc[:, 2:] \n",
    "y_train = query.loc[:,\"relevance\"].values \n",
    "qid_train = query.loc[:,\"qid\"].values \n",
    "qid_train"
   ]
  },
  {
   "cell_type": "code",
   "execution_count": 50,
   "metadata": {},
   "outputs": [
    {
     "data": {
      "text/html": [
       "<div>\n",
       "<style scoped>\n",
       "    .dataframe tbody tr th:only-of-type {\n",
       "        vertical-align: middle;\n",
       "    }\n",
       "\n",
       "    .dataframe tbody tr th {\n",
       "        vertical-align: top;\n",
       "    }\n",
       "\n",
       "    .dataframe thead th {\n",
       "        text-align: right;\n",
       "    }\n",
       "</style>\n",
       "<table border=\"1\" class=\"dataframe\">\n",
       "  <thead>\n",
       "    <tr style=\"text-align: right;\">\n",
       "      <th></th>\n",
       "      <th>relevance</th>\n",
       "      <th>qid</th>\n",
       "      <th>tf</th>\n",
       "      <th>idf</th>\n",
       "      <th>length</th>\n",
       "      <th>bm25</th>\n",
       "      <th>pagerank</th>\n",
       "      <th>inlink</th>\n",
       "      <th>outlink</th>\n",
       "      <th>slash</th>\n",
       "      <th>urlLength</th>\n",
       "      <th>childPage</th>\n",
       "    </tr>\n",
       "  </thead>\n",
       "  <tbody>\n",
       "    <tr>\n",
       "      <th>0</th>\n",
       "      <td>0</td>\n",
       "      <td>11909</td>\n",
       "      <td>0.048537</td>\n",
       "      <td>0</td>\n",
       "      <td>0.054362</td>\n",
       "      <td>0.000000</td>\n",
       "      <td>0.000000</td>\n",
       "      <td>0.000000</td>\n",
       "      <td>0</td>\n",
       "      <td>0.208262</td>\n",
       "      <td>0.089286</td>\n",
       "      <td>1.000000</td>\n",
       "    </tr>\n",
       "    <tr>\n",
       "      <th>1</th>\n",
       "      <td>0</td>\n",
       "      <td>11909</td>\n",
       "      <td>0.000000</td>\n",
       "      <td>0</td>\n",
       "      <td>0.000000</td>\n",
       "      <td>0.000000</td>\n",
       "      <td>0.000000</td>\n",
       "      <td>0.080000</td>\n",
       "      <td>0</td>\n",
       "      <td>0.000000</td>\n",
       "      <td>0.000000</td>\n",
       "      <td>0.000000</td>\n",
       "    </tr>\n",
       "    <tr>\n",
       "      <th>2</th>\n",
       "      <td>0</td>\n",
       "      <td>11909</td>\n",
       "      <td>0.014989</td>\n",
       "      <td>0</td>\n",
       "      <td>0.005346</td>\n",
       "      <td>1.000000</td>\n",
       "      <td>1.000000</td>\n",
       "      <td>1.000000</td>\n",
       "      <td>0</td>\n",
       "      <td>1.000000</td>\n",
       "      <td>1.000000</td>\n",
       "      <td>0.166667</td>\n",
       "    </tr>\n",
       "    <tr>\n",
       "      <th>3</th>\n",
       "      <td>1</td>\n",
       "      <td>11909</td>\n",
       "      <td>0.048180</td>\n",
       "      <td>0</td>\n",
       "      <td>0.016753</td>\n",
       "      <td>0.000000</td>\n",
       "      <td>1.000000</td>\n",
       "      <td>0.253333</td>\n",
       "      <td>0</td>\n",
       "      <td>0.040667</td>\n",
       "      <td>0.017857</td>\n",
       "      <td>0.000000</td>\n",
       "    </tr>\n",
       "    <tr>\n",
       "      <th>4</th>\n",
       "      <td>1</td>\n",
       "      <td>11909</td>\n",
       "      <td>0.254818</td>\n",
       "      <td>0</td>\n",
       "      <td>0.135242</td>\n",
       "      <td>0.615723</td>\n",
       "      <td>0.333333</td>\n",
       "      <td>0.253333</td>\n",
       "      <td>0</td>\n",
       "      <td>0.004727</td>\n",
       "      <td>0.017857</td>\n",
       "      <td>0.527778</td>\n",
       "    </tr>\n",
       "    <tr>\n",
       "      <th>5</th>\n",
       "      <td>0</td>\n",
       "      <td>11909</td>\n",
       "      <td>0.009279</td>\n",
       "      <td>0</td>\n",
       "      <td>0.007146</td>\n",
       "      <td>0.500362</td>\n",
       "      <td>0.333333</td>\n",
       "      <td>0.466667</td>\n",
       "      <td>0</td>\n",
       "      <td>0.187273</td>\n",
       "      <td>0.303571</td>\n",
       "      <td>0.833333</td>\n",
       "    </tr>\n",
       "    <tr>\n",
       "      <th>6</th>\n",
       "      <td>0</td>\n",
       "      <td>11909</td>\n",
       "      <td>0.062099</td>\n",
       "      <td>0</td>\n",
       "      <td>0.067171</td>\n",
       "      <td>0.463787</td>\n",
       "      <td>0.666667</td>\n",
       "      <td>0.413333</td>\n",
       "      <td>0</td>\n",
       "      <td>0.377460</td>\n",
       "      <td>0.035714</td>\n",
       "      <td>0.000000</td>\n",
       "    </tr>\n",
       "    <tr>\n",
       "      <th>7</th>\n",
       "      <td>1</td>\n",
       "      <td>11909</td>\n",
       "      <td>1.000000</td>\n",
       "      <td>0</td>\n",
       "      <td>1.000000</td>\n",
       "      <td>0.000000</td>\n",
       "      <td>0.666667</td>\n",
       "      <td>0.480000</td>\n",
       "      <td>0</td>\n",
       "      <td>0.020984</td>\n",
       "      <td>0.017857</td>\n",
       "      <td>0.000000</td>\n",
       "    </tr>\n",
       "  </tbody>\n",
       "</table>\n",
       "</div>"
      ],
      "text/plain": [
       "   relevance    qid        tf  idf    length      bm25  pagerank    inlink  \\\n",
       "0          0  11909  0.048537    0  0.054362  0.000000  0.000000  0.000000   \n",
       "1          0  11909  0.000000    0  0.000000  0.000000  0.000000  0.080000   \n",
       "2          0  11909  0.014989    0  0.005346  1.000000  1.000000  1.000000   \n",
       "3          1  11909  0.048180    0  0.016753  0.000000  1.000000  0.253333   \n",
       "4          1  11909  0.254818    0  0.135242  0.615723  0.333333  0.253333   \n",
       "5          0  11909  0.009279    0  0.007146  0.500362  0.333333  0.466667   \n",
       "6          0  11909  0.062099    0  0.067171  0.463787  0.666667  0.413333   \n",
       "7          1  11909  1.000000    0  1.000000  0.000000  0.666667  0.480000   \n",
       "\n",
       "   outlink     slash  urlLength  childPage  \n",
       "0        0  0.208262   0.089286   1.000000  \n",
       "1        0  0.000000   0.000000   0.000000  \n",
       "2        0  1.000000   1.000000   0.166667  \n",
       "3        0  0.040667   0.017857   0.000000  \n",
       "4        0  0.004727   0.017857   0.527778  \n",
       "5        0  0.187273   0.303571   0.833333  \n",
       "6        0  0.377460   0.035714   0.000000  \n",
       "7        0  0.020984   0.017857   0.000000  "
      ]
     },
     "execution_count": 50,
     "metadata": {},
     "output_type": "execute_result"
    }
   ],
   "source": [
    "query.loc[query.qid == 11909,]"
   ]
  },
  {
   "cell_type": "markdown",
   "metadata": {},
   "source": [
    "Перейдем к предсказаниям. Сначала -- обычное предсказание pointwise"
   ]
  },
  {
   "cell_type": "markdown",
   "metadata": {},
   "source": [
    "Рассмотрим алгоритм RankBoost"
   ]
  },
  {
   "cell_type": "code",
   "execution_count": 1,
   "metadata": {},
   "outputs": [
    {
     "ename": "ModuleNotFoundError",
     "evalue": "No module named 'rank'",
     "output_type": "error",
     "traceback": [
      "\u001b[1;31m---------------------------------------------------------------------------\u001b[0m",
      "\u001b[1;31mModuleNotFoundError\u001b[0m                       Traceback (most recent call last)",
      "\u001b[1;32m<ipython-input-1-c89225d85697>\u001b[0m in \u001b[0;36m<module>\u001b[1;34m\u001b[0m\n\u001b[1;32m----> 1\u001b[1;33m \u001b[1;32mfrom\u001b[0m \u001b[0mlearning2rank\u001b[0m\u001b[1;33m.\u001b[0m\u001b[0mrank\u001b[0m \u001b[1;32mimport\u001b[0m \u001b[0mRankNet\u001b[0m\u001b[1;33m\u001b[0m\u001b[1;33m\u001b[0m\u001b[0m\n\u001b[0m",
      "\u001b[1;32mc:\\program files (x86)\\python37-32\\lib\\site-packages\\learning2rank\\__init__.py\u001b[0m in \u001b[0;36m<module>\u001b[1;34m\u001b[0m\n\u001b[1;32m----> 1\u001b[1;33m \u001b[1;32mimport\u001b[0m \u001b[0mutils\u001b[0m\u001b[1;33m,\u001b[0m \u001b[0mrank\u001b[0m\u001b[1;33m,\u001b[0m \u001b[0mregression\u001b[0m\u001b[1;33m\u001b[0m\u001b[1;33m\u001b[0m\u001b[0m\n\u001b[0m",
      "\u001b[1;31mModuleNotFoundError\u001b[0m: No module named 'rank'"
     ]
    }
   ],
   "source": [
    "from learning2rank.rank import RankNet"
   ]
  },
  {
   "cell_type": "code",
   "execution_count": 6,
   "metadata": {},
   "outputs": [
    {
     "ename": "NameError",
     "evalue": "name 'RankBoost' is not defined",
     "output_type": "error",
     "traceback": [
      "\u001b[1;31m---------------------------------------------------------------------------\u001b[0m",
      "\u001b[1;31mNameError\u001b[0m                                 Traceback (most recent call last)",
      "\u001b[1;32m<ipython-input-6-a66d052a6181>\u001b[0m in \u001b[0;36m<module>\u001b[1;34m\u001b[0m\n\u001b[1;32m----> 1\u001b[1;33m \u001b[0mmodel\u001b[0m \u001b[1;33m=\u001b[0m \u001b[0mRankBoost\u001b[0m\u001b[1;33m(\u001b[0m\u001b[1;36m100\u001b[0m\u001b[1;33m)\u001b[0m\u001b[1;33m\u001b[0m\u001b[1;33m\u001b[0m\u001b[0m\n\u001b[0m\u001b[0;32m      2\u001b[0m \u001b[0mmodel\u001b[0m\u001b[1;33m.\u001b[0m\u001b[0mfit\u001b[0m\u001b[1;33m(\u001b[0m\u001b[0mX_train\u001b[0m\u001b[1;33m,\u001b[0m \u001b[0my_train\u001b[0m\u001b[1;33m)\u001b[0m\u001b[1;33m\u001b[0m\u001b[1;33m\u001b[0m\u001b[0m\n",
      "\u001b[1;31mNameError\u001b[0m: name 'RankBoost' is not defined"
     ]
    }
   ],
   "source": [
    "model = RankBoost(100)\n",
    "model.fit(X_train, y_train)"
   ]
  },
  {
   "cell_type": "code",
   "execution_count": 125,
   "metadata": {},
   "outputs": [
    {
     "data": {
      "text/plain": [
       "0.8887622753431376"
      ]
     },
     "execution_count": 125,
     "metadata": {},
     "output_type": "execute_result"
    }
   ],
   "source": [
    "y_pred2 = model.predict(X_train)\n",
    "y_pred2\n",
    "mean_ndcg(y_true = y_train, y_pred = y_pred, query_ids = qid_train, k=5)"
   ]
  }
 ],
 "metadata": {
  "kernelspec": {
   "display_name": "Python 3",
   "language": "python",
   "name": "python3"
  },
  "language_info": {
   "codemirror_mode": {
    "name": "ipython",
    "version": 3
   },
   "file_extension": ".py",
   "mimetype": "text/x-python",
   "name": "python",
   "nbconvert_exporter": "python",
   "pygments_lexer": "ipython3",
   "version": "3.7.2"
  }
 },
 "nbformat": 4,
 "nbformat_minor": 2
}
